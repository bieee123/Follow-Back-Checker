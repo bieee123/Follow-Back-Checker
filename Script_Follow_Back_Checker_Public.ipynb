{
  "nbformat": 4,
  "nbformat_minor": 0,
  "metadata": {
    "colab": {
      "provenance": [],
      "include_colab_link": true
    },
    "kernelspec": {
      "name": "python3",
      "display_name": "Python 3"
    },
    "language_info": {
      "name": "python"
    }
  },
  "cells": [
    {
      "cell_type": "markdown",
      "metadata": {
        "id": "view-in-github",
        "colab_type": "text"
      },
      "source": [
        "<a href=\"https://colab.research.google.com/github/bieee123/Follow-Back-Checker/blob/main/Script_Follow_Back_Checker_Public.ipynb\" target=\"_parent\"><img src=\"https://colab.research.google.com/assets/colab-badge.svg\" alt=\"Open In Colab\"/></a>"
      ]
    },
    {
      "cell_type": "markdown",
      "source": [
        "# **Script Follow-Back Checker Public**"
      ],
      "metadata": {
        "id": "JPVrVyWnYc5j"
      }
    },
    {
      "cell_type": "code",
      "source": [
        "import json\n",
        "\n",
        "# File paths after upload\n",
        "followers_file = \"followers_1.json\"  # Adjust it with the name of the up-loaded file\n",
        "following_file = \"following.json\"  # Adjust it with the name of the up-loaded file\n",
        "\n",
        "# Load JSON followers\n",
        "with open(followers_file, 'r', encoding='utf-8') as file:\n",
        "    followers_data = json.load(file)\n",
        "\n",
        "# Load JSON following\n",
        "with open(following_file, 'r', encoding='utf-8') as file:\n",
        "    following_data = json.load(file)\n",
        "\n",
        "# Access followers username\n",
        "followers = []\n",
        "for item in followers_data:\n",
        "    if isinstance(item, dict) and 'string_list_data' in item and item['string_list_data']:\n",
        "        followers.append(item['string_list_data'][0]['value'])\n",
        "\n",
        "# Access following username\n",
        "following = [user['string_list_data'][0]['value'] for user in following_data['relationships_following']]\n",
        "\n",
        "# Show the result\n",
        "print(f\"Followers: {followers}\")\n",
        "print(f\"Following: {following}\")\n",
        "\n",
        "# List that doesn't follow back each other\n",
        "not_followed_back = [user for user in following if user not in followers]\n",
        "print(f\"Not followed back: {not_followed_back}\")"
      ],
      "metadata": {
        "id": "uyEsUkVAK_5z"
      },
      "execution_count": null,
      "outputs": []
    },
    {
      "cell_type": "markdown",
      "source": [
        "# **Step-by-Step: Using the Instagram Follow-Back Checker on Google Colab**\n",
        "\n",
        "### 1. Prepare Your Data\n",
        "- Download your Instagram **followers** and **following** data:\n",
        "  1. Open Instagram settings.\n",
        "  2. Go to **Privacy and Security** > **Download Data**.\n",
        "  3. Request the data and wait for the email with the download link.\n",
        "  4. Extract the downloaded `.zip` file to locate `followers_1.json` and `following.json`.\n",
        "\n",
        "---\n",
        "\n",
        "### 2. Open the Google Colab Link\n",
        "- Click the shared link to access the Colab notebook.\n",
        "\n",
        "---\n",
        "\n",
        "### 3. Upload Your Files\n",
        "1. In the Colab notebook, go to the **Files** tab on the left (folder icon).\n",
        "2. Click the **Upload** button.\n",
        "3. Upload the `followers_1.json` and `following.json` files.\n",
        "\n",
        "---\n",
        "\n",
        "### 4. Run the Notebook\n",
        "1. Press the **Play** button (▶️) on the left side of each cell to run the code.\n",
        "2. Wait for the output to display.\n",
        "\n",
        "---\n",
        "\n",
        "### 5. View the Results\n",
        "- The notebook will display:\n",
        "  - **Followers**: A list of usernames that follow you.\n",
        "  - **Following**: A list of usernames you follow.\n",
        "  - **Not Followed Back**: A list of usernames that don’t follow you back.\n",
        "\n",
        "---\n",
        "\n",
        "### 6. Clean Up After Use\n",
        "- After you’re done:\n",
        "  1. **Delete Uploaded Files**: Click the trash icon next to the uploaded files in the **Files** tab to remove them.\n",
        "  2. **Clear Notebook Outputs**:  \n",
        "     - Go to the menu bar, click **Edit** > **Clear All Outputs**, or  \n",
        "     - Scroll down to the output area, click the three-dot menu (⁝), and select **Clear Selected Outputs**.\n",
        "\n",
        "This ensures your data remains private and the notebook is clean for the next user.\n"
      ],
      "metadata": {
        "id": "fcMop5AiOMKL"
      }
    }
  ]
}