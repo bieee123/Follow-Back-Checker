{
  "nbformat": 4,
  "nbformat_minor": 0,
  "metadata": {
    "colab": {
      "provenance": [],
      "include_colab_link": true
    },
    "kernelspec": {
      "name": "python3",
      "display_name": "Python 3"
    },
    "language_info": {
      "name": "python"
    }
  },
  "cells": [
    {
      "cell_type": "markdown",
      "metadata": {
        "id": "view-in-github",
        "colab_type": "text"
      },
      "source": [
        "<a href=\"https://colab.research.google.com/github/bieee123/Follow-Back-Checker/blob/main/Script_Follow_Back_Checker_Public.ipynb\" target=\"_parent\"><img src=\"https://colab.research.google.com/assets/colab-badge.svg\" alt=\"Open In Colab\"/></a>"
      ]
    },
    {
      "cell_type": "markdown",
      "source": [
        "# **Script Follow-Back Checker Public**"
      ],
      "metadata": {
        "id": "JPVrVyWnYc5j"
      }
    },
    {
      "cell_type": "code",
      "source": [
        "import json\n",
        "\n",
        "# File paths after upload\n",
        "followers_file = \"followers_1.json\"  # Adjust it with the name of the up-loaded file\n",
        "following_file = \"following.json\"  # Adjust it with the name of the up-loaded file\n",
        "\n",
        "# Load JSON followers\n",
        "with open(followers_file, 'r', encoding='utf-8') as file:\n",
        "    followers_data = json.load(file)\n",
        "\n",
        "# Load JSON following\n",
        "with open(following_file, 'r', encoding='utf-8') as file:\n",
        "    following_data = json.load(file)\n",
        "\n",
        "# Access followers username\n",
        "followers = []\n",
        "for item in followers_data:\n",
        "    if isinstance(item, dict) and 'string_list_data' in item and item['string_list_data']:\n",
        "        followers.append(item['string_list_data'][0]['value'])\n",
        "\n",
        "# Access following username\n",
        "following = [user['string_list_data'][0]['value'] for user in following_data['relationships_following']]\n",
        "\n",
        "# Show the result\n",
        "print(f\"Followers: {followers}\")\n",
        "print(f\"Following: {following}\")\n",
        "\n",
        "# List that doesn't follow back each other\n",
        "not_followed_back = [user for user in following if user not in followers]\n",
        "print(f\"Not followed back: {not_followed_back}\")"
      ],
      "metadata": {
        "id": "uyEsUkVAK_5z",
        "colab": {
          "base_uri": "https://localhost:8080/"
        },
        "outputId": "07861e77-a8e5-49cf-f00f-b0971deef47b"
      },
      "execution_count": null,
      "outputs": [
        {
          "output_type": "stream",
          "name": "stdout",
          "text": [
            "Followers: ['jennietjhan', 'jellenjewelry_', 'sheren_alng', 'danarpbn_', 'ammarawirendra', 'relliiiaaa', 't_junaaa', 'sozzalia', 'cherenchristy', 'lvvtfi', 'nieellvv', 'syalomitanatalia_', 'gerywlan', 'vrcsnrt', 'moment.lightroom_360', 'jnyfrelsbth', 'charlentombeng', 'theresiatiranda', 'kevincrsbmw', 'crystalkp_', 'pamssmr', 'hanamidn', 'yasminert_', 'em.iqball', 'vsimpuru', 'ibsandywp71', 'verrrene', 'dea_llva', 'softwareplanett', 'angie.evelynn', 'lesswnka_', 'dis.gaa', 'fescotopol', 'rompis.gillis', 'fyrnshnee_', 'cin.prdytri', 'faraanyre', 'naurahelis', 'nna.nadya', 'raihanna.b', 'gammakb17', 'muhmmaddzakii_', 'praynvd', 'gracellaaarn', 'sahradhl', 'ampaspeluru_27', 'saidrabil19', 'nationaltrifttt', 'angelstwhr', 'hhalimaf', 'jennifer.carlyn', 'kmiliaptr', 'adeliazzh', 'mem.eyy920', 'azftl__', 'firdausfatihul', 'feliciatololiu_', '_velyne_', 'alchprylana', 'sweetagmt', 'eiechess', 'keyyrraaa_', 'litaha89', '_geyorge_', 'reyner67', '_g3raldd', 'alfdzrii_', 'alexandraverencia', 'the_lonely_dev_87', 'baeyand', 'arkapds_', 'muhayuf', 'aldiapriansyah._', 'dnagitaa', 'darrell.mp4', 'ahmaadsidiq', 'riiizkiadiii', 'innovsn_', 'irnesht', 'riswaldyp', 'bin____tang', 'anisa.nrwn', 'devitaann_', 'yudhiyuel', 'annisair__', 'irfansafx', 'marizkyarfi_', 'alieffirmanda', 'chae.sha', 'de__byy', 'bilqiss.n', 'cherenninjl', 'anya_aritonang', 'tasya.tuera', 'aszeida', 'joycellyneolin_', 'audreyvirginias', 'calistaahappy', 'khrshavire', 'jesslyn_c.l', 'otheraccount_fdp', 'wilson.manik', 'rl_lben', 'kcintasl', 'tisalengkey', 'embodenny', 'nadgita_', 'tentinntzk', 'star_maa1', 'qwyndji', 'chzarrr', 'rayhannfchrzl17', 'padosaalexander', '_deoloho_', 'keymargaretha_', 'taniaakezia', 'blessyaa_', 'adrianbaiks', 'aldsrn_', 'marcello.rumuat', 'jiafennn_', 'aldo_kazzaryyan', 'shie.raraa', 'ty.wy11', 'chatelynkezia', 'raragayatrii', 'dikaa.rmdn_', '_gracialauraa', 'guoxinyang98', 'faldifirzaaa', 'aldowiliaan', 'yass1nii', 'n.indraprasta', 'josua_mh', 'terrywang1030', 'fazza.arrantisi', 'vanesaakarundeng', 'vallenchiahelana', 'pusri.27', 'inriakalalo', 'moniq_tmw', 'tech_cipher', 'deviassaa', 'firtsya_', 'yuenkeysii', 'aldsmnjtk', 'imyaraputri', 'angelaaaax__', 'rtkahindangenn_', 'mishka_barnes_', 'gema_montol', 'mchell.tmw', 'al.talune', 'thsyaflo', 'styawiraa', 'keynway_', 'abelniaalicia', 'ginaaysl_', 'xc0de7', 'aqiellei', 'nayeesst', 'ftrpiaan', 'rell.darrel', 'ear.linn', 'ownerdunkinnn', 'icell_kmlo', 'eugeniagraciaa_', 'engelina_tatengkeng', 'reeloved._', 'cella_rondonuwu', 'kucinggawronggg', 'castlensky__', 'whyuisn', 'septianadhty', 'dellindakarongkong', 'aureliakey_', 'thaliasuwito', 'k.sumolang', 'vaaniaurellia', 'citrakansil._', 'vviennkwa_', 'jaya__iskandar', 'qntania_kuhu', 'rchs_rmnggo', 'eno_tatengkeng', 'nicoleaxn', 'victormongi', 'sd.gracio', 'niarays', 'claudyaarwng_', 'jessicaasendow', 'trio.laundry', 'sherrysumakul_', 'revalialangkay', 'gbrlhtxoit', 'jmrthns', 'nagicarntu_', 'veronicasenaen_', 'kezuysy', 'taniahanna_', 'princesester2', 'dreamkostid', 'mesyangelica_', 'shineclarasumampouw_', 'princes39094', 'hannylintong']\n",
            "Following: ['fdcindonesia_', 'panda.edc', 'jennietjhan', 'emilyshiraishi', 'entrepreneurindonesia', 'judyxhuang', 'chelseavanmeijr', 'jellenjewelry_', 'danarpbn_', 'chinesewithmeggie', 'ballerbunch', 'laoban.basketball', 'qhedu.id', 'ammarawirendra', 'six8clips', 'relliiiaaa', 't_junaaa', 'airinskinclinic', 'devclub.presuniv', 'sozzalia', 'cherenchristy', 'heybiblee', 'lvvtfi', 'nieellvv', 'syalomitanatalia_', 'gerywlan', 'vrcsnrt', 'moment.lightroom_360', 'yoona__lim', 'nancyjewel_mcdonie_', 'sebachandra', 'jnyfrelsbth', 'voyavivirel', 'fsociety.community', 'harashta', 'theresiatiranda', 'crystalkp_', 'anon_cyber_team', 'pamssmr', 'yasminert_', 'em.iqball', 'hanamidn', 'verrrene', 'dea_llva', 'gracieabrams', 'lesswnka_', 'angie.evelynn', 'dis.gaa', 'digitalearn_official', 'susan_sun17', 'fescotopol', 'churan00', 'fyrnshnee_', 'cin.prdytri', 'handaabidin', 'faraanyre', 'naurahelis', 'hacker_hub8', 'nna.nadya', 'raihanna.b', 'aesthetic_floraes', 'vousmevoyez', 'gammakb17', 'muhmmaddzakii_', 'wukongchinese', 'revalialangkay', 'talaohu28', 'praynvd', 'zaid_ghiffarii', 'annettelauda', 'skannette', 'mixam._.arn', 'gracellaaarn', 'sahradhl', 'adeliazzh', 'angelstwhr', 'hhalimaf', 'kmiliaptr', 'jennifer.carlyn', 'azftl__', 'feliciatololiu_', '_velyne_', 'alchprylana', 'sweetagmt', 'eiechess', 'keyyrraaa_', 'bssn_ri', '_geyorge_', 'reyner67', 'alfdzrii_', '_g3raldd', 'arkapds_', 'ahmaadsidiq', 'baeyand', 'darrell.mp4', 'aldiapriansyah._', 'riiizkiadiii', 'riswaldyp', 'anisa.nrwn', 'devitaann_', 'pucomputing.regen', 'chae.sha', 'marizkyarfi_', 'yudhiyuel', 'muhayuf', 'de__byy', 'bin____tang', 'innovsn_', 'alieffirmanda', 'annisair__', 'irfansafx', 'dnagitaa', 'bilqiss.n', 'alexandraverencia', 'irnesht', 'ahseach', 'limjjy2', 'you_r_love', 'merdekasiber', 'jadihacker.id', 'course_net', 'ncsc_id', 'cherenninjl', 'anya_aritonang', 'tasya.tuera', 'aszeida', 'joycellyneolin_', 'audreyvirginias', 'calistaahappy', 'usembassyjkt', 'khrshavire', 'jesslyn_c.l', 'wilson.manik', 'rl_lben', 'otheraccount_fdp', 'kcintasl', 'chineserd.id', 'indo.panda', 'tisalengkey', 'mailoormilinka', 'embodenny', 'nadgita_', 'star_maa1', 'tentinntzk', 'qwyndji', 'chzarrr', 'rayhannfchrzl17', 'pucompsci', 'keymargaretha_', 'taniaakezia', 'blessyaa_', 'adrianbaiks', 'marcello.rumuat', 'aldsrn_', 'jiafennn_', 'presuniv_international', 'aldo_kazzaryyan', 'wendywalters', 'shie.raraa', 'ty.wy11', 'chatelynkezia', 'raragayatrii', 'dikaa.rmdn_', '_gracialauraa', 'guoxinyang98', 'aldowiliaan', 'faldifirzaaa', 'n.indraprasta', 'fazza.arrantisi', 'josua_mh', 'terrywang1030', 'vanesaakarundeng', 'pusri.27', 'vallenchiahelana', 'talenthub.ind', 'lisawoon23_', 'inriakalalo', 'moniq_tmw', 'deviassaa', 'ownerdunkinnn', 'yuenkeysii', 'imyaraputri', 'aldsmnjtk', 'angelaaaax__', 'mishka_barnes_', 'gema_montol', 'mchell.tmw', 'rtkahindangenn_', 'thsyaflo', 'al.talune', 'styawiraa', 'keynway_', 'abelniaalicia', 'ginaaysl_', 'xc0de7', 'aqiellei', 'rell.darrel', 'ear.linn', 'laurabas', 'xeesoxee', 'icell_kmlo', 'eugeniagraciaa_', 'youngleadersforindonesia', 'cella_rondonuwu', 'kucinggawronggg', 'septianadhty', 'whyuisn', 'castlensky__', 'remajamtt', 'dellindakarongkong', 'scholarship4us', 'aureliakey_', 'thaliasuwito', 'k.sumolang', 'vaaniaurellia', 'akademibeasiswa', 'maudyayunda', 'citrakansil._', 'vviennkwa_', 'info.pelatihangratis', 'jaya__iskandar', 'qntania_kuhu', 'beasiswa.co', 'info_beasiswa', 'rchs_rmnggo', 'nicoleaxn', 'victormongi', '___amy.h', 'sd.gracio', 'niarays', 'claudyaarwng_', 'jessicaasendow', 'sherrysumakul_', 'iismaboston', 'gbrlhtxoit', 'jmrthns', 'kireitanimoto', 'nagicarntu_', 'iisma_ri', 'veronicasenaen_', 'kezuysy', 'harold.clothes_', 'taniahanna_', 'shineclarasumampouw_']\n",
            "Not followed back: ['fdcindonesia_', 'panda.edc', 'emilyshiraishi', 'entrepreneurindonesia', 'judyxhuang', 'chelseavanmeijr', 'chinesewithmeggie', 'ballerbunch', 'laoban.basketball', 'qhedu.id', 'six8clips', 'airinskinclinic', 'devclub.presuniv', 'heybiblee', 'yoona__lim', 'nancyjewel_mcdonie_', 'sebachandra', 'voyavivirel', 'fsociety.community', 'harashta', 'anon_cyber_team', 'gracieabrams', 'digitalearn_official', 'susan_sun17', 'churan00', 'handaabidin', 'hacker_hub8', 'aesthetic_floraes', 'vousmevoyez', 'wukongchinese', 'talaohu28', 'zaid_ghiffarii', 'annettelauda', 'skannette', 'mixam._.arn', 'bssn_ri', 'pucomputing.regen', 'ahseach', 'limjjy2', 'you_r_love', 'merdekasiber', 'jadihacker.id', 'course_net', 'ncsc_id', 'usembassyjkt', 'chineserd.id', 'indo.panda', 'mailoormilinka', 'pucompsci', 'presuniv_international', 'wendywalters', 'talenthub.ind', 'lisawoon23_', 'laurabas', 'xeesoxee', 'youngleadersforindonesia', 'remajamtt', 'scholarship4us', 'akademibeasiswa', 'maudyayunda', 'info.pelatihangratis', 'beasiswa.co', 'info_beasiswa', '___amy.h', 'iismaboston', 'kireitanimoto', 'iisma_ri', 'harold.clothes_']\n"
          ]
        }
      ]
    },
    {
      "cell_type": "markdown",
      "source": [
        "# **Step-by-Step: Using the Instagram Follow-Back Checker on Google Colab**\n",
        "\n",
        "### 1. Prepare Your Data\n",
        "- Download your Instagram **followers** and **following** data:\n",
        "  1. Open Instagram settings.\n",
        "  2. Go to **Privacy and Security** > **Download Data**.\n",
        "  3. Request the data and wait for the email with the download link.\n",
        "  4. Extract the downloaded `.zip` file to locate `followers_1.json` and `following.json`.\n",
        "\n",
        "---\n",
        "\n",
        "### 2. Open the Google Colab Link\n",
        "- Click the shared link to access the Colab notebook.\n",
        "\n",
        "---\n",
        "\n",
        "### 3. Upload Your Files\n",
        "1. In the Colab notebook, go to the **Files** tab on the left (folder icon).\n",
        "2. Click the **Upload** button.\n",
        "3. Upload the `followers_1.json` and `following.json` files.\n",
        "\n",
        "---\n",
        "\n",
        "### 4. Run the Notebook\n",
        "1. Press the **Play** button (▶️) on the left side of each cell to run the code.\n",
        "2. Wait for the output to display.\n",
        "\n",
        "---\n",
        "\n",
        "### 5. View the Results\n",
        "- The notebook will display:\n",
        "  - **Followers**: A list of usernames that follow you.\n",
        "  - **Following**: A list of usernames you follow.\n",
        "  - **Not Followed Back**: A list of usernames that don’t follow you back.\n",
        "\n",
        "---\n",
        "\n",
        "### 6. Clean Up After Use\n",
        "- After you’re done:\n",
        "  1. **Delete Uploaded Files**: Click the trash icon next to the uploaded files in the **Files** tab to remove them.\n",
        "  2. **Clear Notebook Outputs**:  \n",
        "     - Go to the menu bar, click **Edit** > **Clear All Outputs**, or  \n",
        "     - Scroll down to the output area, click the three-dot menu (⁝), and select **Clear Selected Outputs**.\n",
        "\n",
        "This ensures your data remains private and the notebook is clean for the next user.\n"
      ],
      "metadata": {
        "id": "fcMop5AiOMKL"
      }
    }
  ]
}